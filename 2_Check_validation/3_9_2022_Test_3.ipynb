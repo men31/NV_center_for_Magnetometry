{
 "cells": [
  {
   "cell_type": "code",
   "execution_count": 1,
   "id": "d2360855",
   "metadata": {},
   "outputs": [
    {
     "name": "stdout",
     "output_type": "stream",
     "text": [
      "Using matplotlib backend: MacOSX\n",
      "Populating the interactive namespace from numpy and matplotlib\n"
     ]
    }
   ],
   "source": [
    "import numpy as np\n",
    "# import matplotlib.pyplot as plt\n",
    "%pylab\n",
    "%matplotlib inline\n",
    "from mpl_toolkits import mplot3d"
   ]
  },
  {
   "cell_type": "code",
   "execution_count": 2,
   "id": "5255b07f",
   "metadata": {},
   "outputs": [],
   "source": [
    "def Projection_B2U(B_vec, u_vec):\n",
    "    P_u = u_vec @ u_vec.T / (u_vec.T @ u_vec)\n",
    "    return P_u @ B_vec\n",
    "\n",
    "# Non-vectorize function \n",
    "def Find_diffFre(B_vec, u):\n",
    "    global gam, D, S, Sz\n",
    "    B_u = B_vec.copy()\n",
    "    B_u = Projection_B2U(B_u, u)\n",
    "    H_mag = (gam * np.dot(S.T, B_u)).reshape(3, 3)\n",
    "    H_zero = D * (Sz.T @ Sz)\n",
    "    eigenval, eigenvec = np.linalg.eig(H_zero + H_mag)\n",
    "    return eigenval, eigenvec"
   ]
  },
  {
   "cell_type": "code",
   "execution_count": 3,
   "id": "d1754be0",
   "metadata": {},
   "outputs": [],
   "source": [
    "def Cutoff(x):\n",
    "    return 1 if x > 0.8 else 0\n",
    "cutoff = np.vectorize(Cutoff)"
   ]
  },
  {
   "cell_type": "code",
   "execution_count": 4,
   "id": "8413f6b8",
   "metadata": {},
   "outputs": [],
   "source": [
    "def Multi_diffFre(B_vec):\n",
    "    global u\n",
    "    for i in range(len(u)) :\n",
    "        eigVal, eigVec = Find_diffFre(B_vec, u[i])\n",
    "        max_idx = np.argmax(cutoff(abs(eigVec)), 1)\n",
    "        sort_eigenVal = eigVal[max_idx]\n",
    "        if i == 0:\n",
    "            Frequency = sort_eigenVal\n",
    "        else:\n",
    "            Frequency = np.vstack((Frequency, sort_eigenVal))\n",
    "    return abs(Frequency[:, 0] - Frequency[:, 2]).reshape(-1, 1)"
   ]
  },
  {
   "cell_type": "code",
   "execution_count": 5,
   "id": "96aa9d83",
   "metadata": {},
   "outputs": [],
   "source": [
    "num = int(1e4)\n",
    "BX_lst = np.linspace(0.0, 50.0, num) / 1000\n",
    "D = 2.87 # Ghz\n",
    "gam = 28.8 # Ghz / T"
   ]
  },
  {
   "cell_type": "code",
   "execution_count": 6,
   "id": "1d420161",
   "metadata": {},
   "outputs": [],
   "source": [
    "# Spin is correct \n",
    "Sx = np.array([[0, 1, 0], [1, 0, 1], [0, 1, 0]]) / np.sqrt(2)\n",
    "Sy = np.array([[0, -1.j, 0], [1.j, 0, -1.j], [0, 1.j, 0]]) / np.sqrt(2)\n",
    "Sz = np.array([[1, 0, 0], [0, 0, 0], [0, 0, -1]])\n",
    "S = np.array((Sx, Sy, Sz))"
   ]
  },
  {
   "cell_type": "code",
   "execution_count": 7,
   "id": "631420eb",
   "metadata": {},
   "outputs": [],
   "source": [
    "u1 = np.array([[1], [1], [1]]) / 3 ** (1 / 2)\n",
    "u2 = np.array([[1], [-1], [-1]]) / 3 ** (1 / 2)\n",
    "u3 = np.array([[-1], [-1], [1]]) / 3 ** (1 / 2)\n",
    "u4 = np.array([[-1], [1], [-1]]) / 3 ** (1 / 2)\n",
    "u = [u1, u2, u3, u4]\n",
    "u_arr = np.array((u1, u2, u3, u4)).reshape(4, 3)\n",
    "u_dict = {f'NV_{i}': u[i] for i in range(len(u))}"
   ]
  },
  {
   "cell_type": "code",
   "execution_count": 8,
   "id": "b660b956",
   "metadata": {},
   "outputs": [],
   "source": [
    "B_val = 0.05 # 50 mT\n",
    "theta = 54.735 * np.pi / 180\n",
    "phi = 45 * np.pi / 180"
   ]
  },
  {
   "cell_type": "code",
   "execution_count": 9,
   "id": "b1db4491",
   "metadata": {},
   "outputs": [
    {
     "name": "stdout",
     "output_type": "stream",
     "text": [
      "[[0.0288673 ]\n",
      " [0.0288673 ]\n",
      " [0.02886795]]\n"
     ]
    }
   ],
   "source": [
    "B_vec = B_val * np.array([[np.sin(theta) * np.cos(phi)], [np.sin(theta) * np.sin(phi)], [np.cos(theta)]])\n",
    "print(B_vec)"
   ]
  },
  {
   "cell_type": "markdown",
   "id": "4d4c8e22",
   "metadata": {},
   "source": [
    "# Today, Rotating Sx, Sy, Sz when the magnetic field was rotated"
   ]
  },
  {
   "cell_type": "code",
   "execution_count": 10,
   "id": "4df43e84",
   "metadata": {},
   "outputs": [],
   "source": [
    "def Find_Multi_diffFre(B_vec):\n",
    "    global gam, D, S, Sz, num\n",
    "    B_u = B_vec.copy()\n",
    "    B_u = B_u.T.reshape(num, 3, 1)\n",
    "    H_mag = gam * np.dot(S.T, B_u).T.reshape(num, 3, 3)\n",
    "    H_zero = D * (Sz.T @ Sz) \n",
    "    eigenval, eigenvec = np.linalg.eig(H_zero + H_mag) \n",
    "    return eigenval, eigenvec"
   ]
  },
  {
   "cell_type": "code",
   "execution_count": 11,
   "id": "735a65ea",
   "metadata": {},
   "outputs": [],
   "source": [
    "B_vec = BX_lst * np.array([[np.sin(theta) * np.cos(phi)], [np.sin(theta) * np.sin(phi)], [np.cos(theta)]])"
   ]
  },
  {
   "cell_type": "code",
   "execution_count": 12,
   "id": "eddd21f0",
   "metadata": {},
   "outputs": [],
   "source": [
    "eigenVal, eigenVec = Find_Multi_diffFre(B_vec)"
   ]
  },
  {
   "cell_type": "code",
   "execution_count": 13,
   "id": "b33f93d0",
   "metadata": {},
   "outputs": [],
   "source": [
    "max_idx = np.argmax(cutoff(abs(eigenVec)), 2)\n",
    "Frequency = np.take_along_axis(eigenVal, max_idx, axis=1)\n",
    "Fre_plus, Fre_g, Fre_minus = Frequency[:, 0], Frequency[:, 1], Frequency[:, 2]"
   ]
  },
  {
   "cell_type": "code",
   "execution_count": 14,
   "id": "606d5dfe",
   "metadata": {},
   "outputs": [
    {
     "data": {
      "text/plain": [
       "Text(0.05, 2.7325504755699246, 'v- : 2.7325504755699246 GHz')"
      ]
     },
     "execution_count": 14,
     "metadata": {},
     "output_type": "execute_result"
    },
    {
     "data": {
      "image/png": "[encoded data removed]",
      "text/plain": [
       "<Figure size 432x288 with 1 Axes>"
      ]
     },
     "metadata": {
      "needs_background": "light"
     },
     "output_type": "display_data"
    }
   ],
   "source": [
    "plt.plot(BX_lst, abs(Fre_plus-Fre_g))\n",
    "plt.plot(BX_lst, abs(Fre_minus-Fre_g))\n",
    "plt.grid()\n",
    "plt.legend(['V+', 'V-'])\n",
    "plt.ylabel('Frequency (GHz)')\n",
    "plt.xlabel('B (T)')\n",
    "plt.text(BX_lst[-1], abs(Fre_plus-Fre_g)[-1], f'v+ : {round(abs(Fre_plus-Fre_g)[-1], 2)} GHz')\n",
    "plt.text(BX_lst[-1], abs(Fre_minus-Fre_g)[-1], f'v- : {abs(Fre_minus-Fre_g)[-1]} GHz')"
   ]
  },
  {
   "cell_type": "code",
   "execution_count": 15,
   "id": "5f1b116b",
   "metadata": {},
   "outputs": [],
   "source": [
    "def rotate_mat(theta, phi):\n",
    "    return np.array([[np.cos(theta) * np.cos(phi), np.sin(phi), -np.sin(theta) * np.cos(phi)], \n",
    "                     [-np.cos(theta) * np.sin(phi), np.cos(phi), np.sin(theta) * np.sin(phi)], \n",
    "                     [np.sin(theta), 0, np.cos(theta)]])"
   ]
  },
  {
   "cell_type": "code",
   "execution_count": 16,
   "id": "55398d85",
   "metadata": {},
   "outputs": [
    {
     "name": "stdout",
     "output_type": "stream",
     "text": [
      "[[0.0288762 ]\n",
      " [0.0288762 ]\n",
      " [0.02885013]]\n"
     ]
    }
   ],
   "source": [
    "B_val = 0.05\n",
    "theta = 54.76 * np.pi / 180\n",
    "phi = 45 * np.pi / 180\n",
    "B_vec = B_val * np.array([[np.sin(theta) * np.cos(phi)], [np.sin(theta) * np.sin(phi)], [np.cos(theta)]])\n",
    "print(B_vec)"
   ]
  },
  {
   "cell_type": "code",
   "execution_count": 17,
   "id": "1b8b1af3",
   "metadata": {},
   "outputs": [],
   "source": [
    "def Find_diffFre(B_vec, u):\n",
    "    global gam, D, S, Sz\n",
    "    B_u = B_vec.copy()\n",
    "    B_u = Projection_B2U(B_u, u)\n",
    "    H_mag = (gam * np.dot(S.T, B_u)).reshape(3, 3)\n",
    "    H_zero = D * (Sz.T @ Sz)\n",
    "    eigenval, eigenvec = np.linalg.eig(H_zero + H_mag)\n",
    "    return eigenval, eigenvec"
   ]
  },
  {
   "cell_type": "code",
   "execution_count": 18,
   "id": "b21a242c",
   "metadata": {
    "scrolled": true
   },
   "outputs": [
    {
     "name": "stdout",
     "output_type": "stream",
     "text": [
      "[[0.02886751]\n",
      " [0.02886751]\n",
      " [0.02886751]]\n"
     ]
    }
   ],
   "source": [
    "B_u1 = Projection_B2U(B_vec, u1)\n",
    "print(B_u1)"
   ]
  },
  {
   "cell_type": "code",
   "execution_count": 19,
   "id": "3574e94c",
   "metadata": {},
   "outputs": [
    {
     "name": "stdout",
     "output_type": "stream",
     "text": [
      "[[0.  ]\n",
      " [0.  ]\n",
      " [0.05]]\n"
     ]
    }
   ],
   "source": [
    "B_zero = B_val * np.array([[np.sin(0) * np.cos(0)], [np.sin(0) * np.sin(0)], [np.cos(0)]])\n",
    "print(B_zero)"
   ]
  },
  {
   "cell_type": "code",
   "execution_count": 20,
   "id": "17bffb77",
   "metadata": {},
   "outputs": [],
   "source": [
    "def rotate_mat2(theta, phi):\n",
    "    return np.array([[np.cos(theta) * np.cos(phi), np.sin(phi), np.sin(theta) * np.cos(phi)], \n",
    "                     [np.cos(theta) * np.sin(phi), np.cos(phi), np.sin(theta) * np.sin(phi)], \n",
    "                     [np.sin(theta), 0, np.cos(theta)]])"
   ]
  },
  {
   "cell_type": "code",
   "execution_count": 21,
   "id": "e9818431",
   "metadata": {},
   "outputs": [
    {
     "name": "stdout",
     "output_type": "stream",
     "text": [
      "[[0.40800249 0.70710678 0.577524  ]\n",
      " [0.40800249 0.70710678 0.577524  ]\n",
      " [0.81674227 0.         0.57700265]]\n"
     ]
    }
   ],
   "source": [
    "theta = 54.76 * np.pi / 180\n",
    "phi = 45 * np.pi / 180\n",
    "rot1 = rotate_mat2(theta, phi)\n",
    "print(rot1)"
   ]
  },
  {
   "cell_type": "code",
   "execution_count": 22,
   "id": "3ec34b93",
   "metadata": {
    "scrolled": true
   },
   "outputs": [
    {
     "name": "stdout",
     "output_type": "stream",
     "text": [
      "Sx\n",
      "[[0.         0.70710678 0.        ]\n",
      " [0.70710678 0.         0.70710678]\n",
      " [0.         0.70710678 0.        ]]\n",
      "[[0.5        0.69687246 0.5       ]\n",
      " [0.5        0.69687246 0.5       ]\n",
      " [0.         0.98552649 0.        ]]\n"
     ]
    }
   ],
   "source": [
    "print('Sx')\n",
    "print(Sx)\n",
    "Sx1 = rot1 @ Sx\n",
    "print(Sx1)"
   ]
  },
  {
   "cell_type": "code",
   "execution_count": 23,
   "id": "ea128e5e",
   "metadata": {},
   "outputs": [
    {
     "name": "stdout",
     "output_type": "stream",
     "text": [
      "Sy\n",
      "[[ 0.+0.j         -0.-0.70710678j  0.+0.j        ]\n",
      " [ 0.+0.70710678j  0.+0.j         -0.-0.70710678j]\n",
      " [ 0.+0.j          0.+0.70710678j  0.+0.j        ]]\n",
      "[[0.+0.5j        0.+0.11986981j 0.-0.5j       ]\n",
      " [0.+0.5j        0.+0.11986981j 0.-0.5j       ]\n",
      " [0.+0.j         0.-0.16952151j 0.+0.j        ]]\n"
     ]
    }
   ],
   "source": [
    "print('Sy')\n",
    "print(Sy)\n",
    "Sy1 = rot1 @ Sy\n",
    "print(Sy1)"
   ]
  },
  {
   "cell_type": "code",
   "execution_count": 24,
   "id": "712066ce",
   "metadata": {},
   "outputs": [
    {
     "name": "stdout",
     "output_type": "stream",
     "text": [
      "Sz\n",
      "[[ 1  0  0]\n",
      " [ 0  0  0]\n",
      " [ 0  0 -1]]\n",
      "[[ 0.40800249  0.         -0.577524  ]\n",
      " [ 0.40800249  0.         -0.577524  ]\n",
      " [ 0.81674227  0.         -0.57700265]]\n"
     ]
    }
   ],
   "source": [
    "print('Sz')\n",
    "print(Sz)\n",
    "Sz1 = rot1 @ Sz\n",
    "print(Sz1)"
   ]
  },
  {
   "cell_type": "code",
   "execution_count": 25,
   "id": "f80083f3",
   "metadata": {},
   "outputs": [
    {
     "name": "stdout",
     "output_type": "stream",
     "text": [
      "Sum S : \n",
      "[[4.31+0.j 0.  +0.j 0.  +0.j]\n",
      " [0.  +0.j 0.  +0.j 0.  +0.j]\n",
      " [0.  +0.j 0.  +0.j 1.43+0.j]]\n",
      "Sum S1 : \n",
      "[[ 3.62481994+0.41581728j  0.57954322+0.09968788j -2.76908457-0.41581728j]\n",
      " [ 0.75481994+0.41581728j  0.57954322+0.09968788j -0.06403807-0.41581728j]\n",
      " [-2.02642856+0.j          0.81959789-0.14097995j  2.39057784+0.j        ]]\n"
     ]
    }
   ],
   "source": [
    "print('Sum S : ')\n",
    "print((D * (Sz.T @ Sz) + gam * (B_zero[0] * Sx + B_zero[1] * Sy + B_zero[2] * Sz)))\n",
    "print('Sum S1 : ')\n",
    "print((D * (Sz1.T @ Sz1) + gam * (B_vec[0] * Sx1 + B_vec[1] * Sy1 + B_vec[2] * Sz1)))"
   ]
  },
  {
   "cell_type": "code",
   "execution_count": 26,
   "id": "37d34719",
   "metadata": {},
   "outputs": [
    {
     "name": "stdout",
     "output_type": "stream",
     "text": [
      "[[ 0.02620903+0.0144381j   0.02012303+0.00346138j -0.00222354-0.0144381j ]\n",
      " [ 0.02620903+0.0144381j   0.02012303+0.00346138j -0.00222354-0.0144381j ]\n",
      " [ 0.02356312+0.j          0.02845826-0.00489514j -0.0166466 +0.j        ]]\n"
     ]
    }
   ],
   "source": [
    "print(B_vec[0] * Sx1 + B_vec[1] * Sy1 + B_vec[2] * Sz1)"
   ]
  },
  {
   "cell_type": "code",
   "execution_count": 27,
   "id": "17b11503",
   "metadata": {},
   "outputs": [
    {
     "name": "stdout",
     "output_type": "stream",
     "text": [
      "[[ 0.02885013+0.j          0.02041856-0.02041856j  0.        +0.j        ]\n",
      " [ 0.02041856+0.02041856j  0.        +0.j          0.02041856-0.02041856j]\n",
      " [ 0.        +0.j          0.02041856+0.02041856j -0.02885013+0.j        ]]\n"
     ]
    }
   ],
   "source": [
    "print(B_vec[0] * Sx + B_vec[1] * Sy + B_vec[2] * Sz)"
   ]
  },
  {
   "cell_type": "code",
   "execution_count": 28,
   "id": "e267e1c1",
   "metadata": {},
   "outputs": [
    {
     "name": "stdout",
     "output_type": "stream",
     "text": [
      "[[ 0.02620903+0.0144381j   0.02012303+0.00346138j -0.00222354-0.0144381j ]\n",
      " [ 0.02620903+0.0144381j   0.02012303+0.00346138j -0.00222354-0.0144381j ]\n",
      " [ 0.02356312+0.j          0.02845826-0.00489514j -0.0166466 +0.j        ]]\n"
     ]
    }
   ],
   "source": [
    "print(rot1 @ (B_vec[0] * Sx + B_vec[1] * Sy + B_vec[2] * Sz))"
   ]
  },
  {
   "cell_type": "code",
   "execution_count": 29,
   "id": "c62e0ae8",
   "metadata": {},
   "outputs": [
    {
     "data": {
      "text/plain": [
       "array([[ 1.        ,  0.        , -0.94252491],\n",
       "       [ 0.        ,  0.        ,  0.        ],\n",
       "       [-0.94252491,  0.        ,  1.        ]])"
      ]
     },
     "execution_count": 29,
     "metadata": {},
     "output_type": "execute_result"
    }
   ],
   "source": [
    "Sz1.T @ Sz1"
   ]
  },
  {
   "cell_type": "code",
   "execution_count": 30,
   "id": "3184282e",
   "metadata": {},
   "outputs": [
    {
     "data": {
      "text/plain": [
       "array([[1, 0, 0],\n",
       "       [0, 0, 0],\n",
       "       [0, 0, 1]])"
      ]
     },
     "execution_count": 30,
     "metadata": {},
     "output_type": "execute_result"
    }
   ],
   "source": [
    "Sz.T @ Sz"
   ]
  },
  {
   "cell_type": "code",
   "execution_count": 31,
   "id": "aff72246",
   "metadata": {},
   "outputs": [],
   "source": [
    "H = D * (Sz1.T @ Sz1) + gam * (B_vec[0] * Sx1 + B_vec[1] * Sy1 + B_vec[2] * Sz1)"
   ]
  },
  {
   "cell_type": "code",
   "execution_count": 32,
   "id": "a92cfa77",
   "metadata": {},
   "outputs": [],
   "source": [
    "eigval, eigvec = np.linalg.eig(H)"
   ]
  },
  {
   "cell_type": "code",
   "execution_count": 33,
   "id": "5737fc56",
   "metadata": {},
   "outputs": [
    {
     "data": {
      "text/plain": [
       "array([ 5.41957143+0.44305674j, -0.09750131+0.07390643j,\n",
       "        1.27287088-0.00145801j])"
      ]
     },
     "execution_count": 33,
     "metadata": {},
     "output_type": "execute_result"
    }
   ],
   "source": [
    "eigval"
   ]
  },
  {
   "cell_type": "code",
   "execution_count": 34,
   "id": "57186c37",
   "metadata": {},
   "outputs": [
    {
     "data": {
      "text/plain": [
       "array([[ 0.83977965,  0.55587594,  0.56256263],\n",
       "       [ 0.15301754, -0.54146043,  0.56789391],\n",
       "       [-0.50183765,  0.62917609,  0.59940781]])"
      ]
     },
     "execution_count": 34,
     "metadata": {},
     "output_type": "execute_result"
    }
   ],
   "source": [
    "np.real(eigvec)"
   ]
  },
  {
   "cell_type": "markdown",
   "id": "532f9f59",
   "metadata": {},
   "source": [
    "# Summary Rotating the Sx, Sy, Sz is failure because it does not have mathematic proof."
   ]
  },
  {
   "cell_type": "markdown",
   "id": "e03f90ec",
   "metadata": {},
   "source": [
    "# Next, I will focus on rotate the X, Y, Z axis allowing NV-axis and then, find the dot product between rotated axis and B vector"
   ]
  },
  {
   "cell_type": "code",
   "execution_count": 35,
   "id": "f4ade62f",
   "metadata": {
    "scrolled": true
   },
   "outputs": [
    {
     "name": "stdout",
     "output_type": "stream",
     "text": [
      "[[1 0 0]\n",
      " [0 1 0]\n",
      " [0 0 1]]\n"
     ]
    }
   ],
   "source": [
    "x_axs = np.array([[1], [0], [0]])\n",
    "y_axs = np.array([[0], [1], [0]])\n",
    "z_axs = np.array([[0], [0], [1]])\n",
    "n_axs = np.array((x_axs, y_axs, z_axs)).reshape(3, 3)\n",
    "print(n_axs)"
   ]
  },
  {
   "cell_type": "code",
   "execution_count": 36,
   "id": "886ece3e",
   "metadata": {},
   "outputs": [],
   "source": [
    "def rotate_mat2(theta, phi):\n",
    "    return np.array([[np.cos(theta) * np.cos(phi), -np.sin(phi), np.sin(theta) * np.cos(phi)], \n",
    "                     [np.cos(theta) * np.sin(phi), np.cos(phi), np.sin(theta) * np.sin(phi)], \n",
    "                     [-np.sin(theta), 0, np.cos(theta)]]).T"
   ]
  },
  {
   "cell_type": "code",
   "execution_count": 37,
   "id": "e357214f",
   "metadata": {},
   "outputs": [
    {
     "name": "stdout",
     "output_type": "stream",
     "text": [
      "[[ 0.40820406  0.40820406 -0.81654081]\n",
      " [-0.70710678  0.70710678  0.        ]\n",
      " [ 0.57738155  0.57738155  0.57728771]]\n"
     ]
    }
   ],
   "source": [
    "theta = 54.74 * np.pi / 180\n",
    "phi = 45 * np.pi / 180\n",
    "rot1 = rotate_mat2(theta, phi)\n",
    "print(rot1)"
   ]
  },
  {
   "cell_type": "code",
   "execution_count": 38,
   "id": "267e9010",
   "metadata": {},
   "outputs": [
    {
     "name": "stdout",
     "output_type": "stream",
     "text": [
      "[[0.  ]\n",
      " [0.  ]\n",
      " [0.05]]\n"
     ]
    }
   ],
   "source": [
    "B_val = 0.05\n",
    "theta = 0 * np.pi / 180\n",
    "phi = 0 * np.pi / 180\n",
    "B_vec = B_val * np.array([[np.sin(theta) * np.cos(phi)], [np.sin(theta) * np.sin(phi)], [np.cos(theta)]])\n",
    "print(B_vec)"
   ]
  },
  {
   "cell_type": "code",
   "execution_count": 39,
   "id": "5934a44a",
   "metadata": {},
   "outputs": [
    {
     "data": {
      "text/plain": [
       "array([[0.57735027],\n",
       "       [0.57735027],\n",
       "       [0.57735027]])"
      ]
     },
     "execution_count": 39,
     "metadata": {},
     "output_type": "execute_result"
    }
   ],
   "source": [
    "u1"
   ]
  },
  {
   "cell_type": "code",
   "execution_count": 40,
   "id": "d2f8d1cf",
   "metadata": {},
   "outputs": [
    {
     "data": {
      "text/plain": [
       "array([[ 0.40820406,  0.40820406, -0.81654081],\n",
       "       [-0.70710678,  0.70710678,  0.        ],\n",
       "       [ 0.57738155,  0.57738155,  0.57728771]])"
      ]
     },
     "execution_count": 40,
     "metadata": {},
     "output_type": "execute_result"
    }
   ],
   "source": [
    "(rot1 @ n_axs)"
   ]
  },
  {
   "cell_type": "code",
   "execution_count": 41,
   "id": "5058a7f9",
   "metadata": {
    "scrolled": false
   },
   "outputs": [
    {
     "data": {
      "text/plain": [
       "array([[-7.66144171e-05],\n",
       "       [ 5.55111512e-17],\n",
       "       [ 9.99999997e-01]])"
      ]
     },
     "execution_count": 41,
     "metadata": {},
     "output_type": "execute_result"
    }
   ],
   "source": [
    "(rot1 @ n_axs) @ u1"
   ]
  },
  {
   "cell_type": "code",
   "execution_count": 42,
   "id": "86556b88",
   "metadata": {
    "scrolled": true
   },
   "outputs": [
    {
     "data": {
      "text/plain": [
       "array([-0.04082704])"
      ]
     },
     "execution_count": 42,
     "metadata": {},
     "output_type": "execute_result"
    }
   ],
   "source": [
    "(rot1 @ n_axs).T[:, 0] @ B_vec"
   ]
  },
  {
   "cell_type": "code",
   "execution_count": 43,
   "id": "a9d620b1",
   "metadata": {},
   "outputs": [
    {
     "data": {
      "text/plain": [
       "array([0.02886439])"
      ]
     },
     "execution_count": 43,
     "metadata": {},
     "output_type": "execute_result"
    }
   ],
   "source": [
    "np.dot((rot1 @ n_axs).T[:, 2], B_vec)"
   ]
  },
  {
   "cell_type": "code",
   "execution_count": 56,
   "id": "9beb90f4",
   "metadata": {},
   "outputs": [],
   "source": [
    "def find_theta(vec, vecZ):\n",
    "    return np.arccos(np.dot(vec.T, vecZ) / (np.linalg.norm(vec) * np.linalg.norm(vecZ)))\n",
    "# def find_phi(vec, vecX, vecY):\n",
    "#     return np.arctan(np.dot(vec.T, vecY) / np.dot(vec.T, vecX)) * 180 / np.pi\n",
    "def find_phi(vec, vecX, vecY):\n",
    "    vec_ = np.array([[np.dot(vec.T, vecX)], [np.dot(vec.T, vecY)]]).reshape(2, 1)\n",
    "    x_2d, y_2d = np.array([[1], [0]]), np.array([[0], [1]]) \n",
    "    phi = np.arccos(np.dot(vec_.T, x_2d) / abs(np.linalg.norm(vec_) * np.linalg.norm(x_2d)))\n",
    "    if np.dot(vec_.T, y_2d) < 0:\n",
    "        phi = - phi\n",
    "    return phi"
   ]
  },
  {
   "cell_type": "code",
   "execution_count": 57,
   "id": "8bbfa1be",
   "metadata": {},
   "outputs": [],
   "source": [
    "# Do not work when rotate X, Y, Z axis allowing B vector.\n",
    "# def Find_diffFre(B_vec, u):\n",
    "#     global gam, D, S, Sz, n_axs, theta, phi\n",
    "#     B_u = B_vec.copy()\n",
    "#     rot = rotate_mat2(theta, phi)\n",
    "#     u = (rot @ n_axs) @ u\n",
    "#     print(theta * 180 / np.pi, phi * 180 / np.pi)\n",
    "#     print(u)\n",
    "#     B_u = Projection_B2U(B_u, u)\n",
    "#     print(B_u)\n",
    "#     H_mag = (gam * np.dot(S.T, B_u)).reshape(3, 3)\n",
    "# #     print(H_mag)\n",
    "#     H_zero = D * (Sz.T @ Sz)\n",
    "#     eigenval, eigenvec = np.linalg.eig(H_zero + H_mag)\n",
    "#     return eigenval, eigenvec"
   ]
  },
  {
   "cell_type": "code",
   "execution_count": 58,
   "id": "51f6367e",
   "metadata": {
    "scrolled": false
   },
   "outputs": [
    {
     "data": {
      "text/plain": [
       "array([[1, 0, 0],\n",
       "       [0, 1, 0],\n",
       "       [0, 0, 1]])"
      ]
     },
     "execution_count": 58,
     "metadata": {},
     "output_type": "execute_result"
    }
   ],
   "source": [
    "n_axs"
   ]
  },
  {
   "cell_type": "code",
   "execution_count": 59,
   "id": "437f5a64",
   "metadata": {},
   "outputs": [
    {
     "name": "stdout",
     "output_type": "stream",
     "text": [
      "[[0.02886908]\n",
      " [0.02886908]\n",
      " [0.02886439]]\n"
     ]
    }
   ],
   "source": [
    "B_val = 0.05\n",
    "theta = 54.74 * np.pi / 180\n",
    "phi = 45 * np.pi / 180\n",
    "B_vec = B_val * np.array([[np.sin(theta) * np.cos(phi)], [np.sin(theta) * np.sin(phi)], [np.cos(theta)]])\n",
    "print(B_vec)"
   ]
  },
  {
   "cell_type": "code",
   "execution_count": 60,
   "id": "d6caf6e9",
   "metadata": {},
   "outputs": [],
   "source": [
    "def find_phi(vec, vecX, vecY):\n",
    "    vec_ = np.array([[np.dot(vec.T, vecX)], [np.dot(vec.T, vecY)]]).reshape(2, 1)\n",
    "    x_2d, y_2d = np.array([[1], [0]]), np.array([[0], [1]]) \n",
    "    phi = np.arccos(np.dot(vec_.T, x_2d) / abs(np.linalg.norm(vec_) * np.linalg.norm(x_2d)))\n",
    "    if np.dot(vec_.T, y_2d) < 0:\n",
    "        phi = - phi\n",
    "    return phi"
   ]
  },
  {
   "cell_type": "code",
   "execution_count": 85,
   "id": "0bbd5dea",
   "metadata": {},
   "outputs": [],
   "source": [
    "def MakeCoordinate_u(u):\n",
    "    global n_axs\n",
    "    theta = find_theta(u, n_axs[:, 2].reshape(-1, 1))\n",
    "    phi = find_phi(u, n_axs[:, 0].reshape(-1, 1), n_axs[:, 1].reshape(-1, 1))\n",
    "#     print(sum(theta) * 180 / np.pi, sum(phi) * 180 / np.pi)\n",
    "    rot = rotate_mat2(sum(theta), sum(phi))\n",
    "#     print(rot)\n",
    "    u_axs = (rot @ n_axs)\n",
    "#     print(u_axs)\n",
    "    return u_axs"
   ]
  },
  {
   "cell_type": "code",
   "execution_count": 66,
   "id": "e8a0abd3",
   "metadata": {},
   "outputs": [
    {
     "name": "stdout",
     "output_type": "stream",
     "text": [
      "54.735610317245346 45.0\n",
      "[[ 0.40824829  0.40824829 -0.81649658]\n",
      " [-0.70710678  0.70710678  0.        ]\n",
      " [ 0.57735027  0.57735027  0.57735027]]\n",
      "125.26438968275465 -45.0\n",
      "[[-0.40824829  0.40824829 -0.81649658]\n",
      " [ 0.70710678  0.70710678  0.        ]\n",
      " [ 0.57735027 -0.57735027 -0.57735027]]\n",
      "54.735610317245346 -135.0\n",
      "[[-0.40824829 -0.40824829 -0.81649658]\n",
      " [ 0.70710678 -0.70710678  0.        ]\n",
      " [-0.57735027 -0.57735027  0.57735027]]\n",
      "125.26438968275465 135.0\n",
      "[[ 0.40824829 -0.40824829 -0.81649658]\n",
      " [-0.70710678 -0.70710678  0.        ]\n",
      " [-0.57735027  0.57735027 -0.57735027]]\n"
     ]
    }
   ],
   "source": [
    "u1_axs = MakeCoordinate_u(u1)\n",
    "u2_axs = MakeCoordinate_u(u2)\n",
    "u3_axs = MakeCoordinate_u(u3)\n",
    "u4_axs = MakeCoordinate_u(u4)"
   ]
  },
  {
   "cell_type": "code",
   "execution_count": 70,
   "id": "ab821e6c",
   "metadata": {},
   "outputs": [
    {
     "data": {
      "text/plain": [
       "array([[-0.02356767],\n",
       "       [-0.04082704],\n",
       "       [-0.01666486]])"
      ]
     },
     "execution_count": 70,
     "metadata": {},
     "output_type": "execute_result"
    }
   ],
   "source": [
    "u4_axs @ B_vec"
   ]
  },
  {
   "cell_type": "code",
   "execution_count": 75,
   "id": "0a2c0ce7",
   "metadata": {},
   "outputs": [],
   "source": [
    "def Find_diffFre(B_vec, u_axs):\n",
    "    global gam, D, S, Sz\n",
    "    B_u = B_vec.copy()\n",
    "    B_u = u_axs @ B_u\n",
    "    H_mag = (gam * np.dot(S.T, B_u)).reshape(3, 3)\n",
    "    H_zero = D * (Sz.T @ Sz)\n",
    "    eigenval, eigenvec = np.linalg.eig(H_zero + H_mag)\n",
    "    return eigenval, eigenvec"
   ]
  },
  {
   "cell_type": "code",
   "execution_count": 79,
   "id": "32c5c8e5",
   "metadata": {},
   "outputs": [
    {
     "name": "stdout",
     "output_type": "stream",
     "text": [
      "[[-0.02886908]\n",
      " [-0.02886908]\n",
      " [ 0.02886439]]\n"
     ]
    }
   ],
   "source": [
    "B_val = 0.05\n",
    "theta = 54.74 * np.pi / 180\n",
    "phi = -135 * np.pi / 180\n",
    "B_vec = B_val * np.array([[np.sin(theta) * np.cos(phi)], [np.sin(theta) * np.sin(phi)], [np.cos(theta)]])\n",
    "print(B_vec)"
   ]
  },
  {
   "cell_type": "code",
   "execution_count": 81,
   "id": "1a17460c",
   "metadata": {},
   "outputs": [
    {
     "name": "stdout",
     "output_type": "stream",
     "text": [
      "[ 4.31000000e+00+0.j -5.66780075e-09+0.j  1.43000001e+00+0.j]\n",
      "[[ 1.00000000e+00+0.j -1.81000896e-05+0.j -1.47770405e-09+0.j]\n",
      " [ 1.81000897e-05+0.j  9.99999998e-01+0.j  5.45534166e-05+0.j]\n",
      " [ 4.90282324e-10+0.j -5.45534166e-05+0.j  9.99999999e-01+0.j]]\n"
     ]
    }
   ],
   "source": [
    "eigVal, eigVec = Find_diffFre(B_vec, u3_axs)\n",
    "print(eigVal)\n",
    "print(eigVec)"
   ]
  },
  {
   "cell_type": "markdown",
   "id": "6b160735",
   "metadata": {},
   "source": [
    "# Working on"
   ]
  },
  {
   "cell_type": "code",
   "execution_count": 84,
   "id": "31368994",
   "metadata": {},
   "outputs": [
    {
     "name": "stdout",
     "output_type": "stream",
     "text": [
      "54.735610317245346 45.0\n",
      "[[ 0.40824829  0.40824829 -0.81649658]\n",
      " [-0.70710678  0.70710678  0.        ]\n",
      " [ 0.57735027  0.57735027  0.57735027]]\n",
      "125.26438968275465 -45.0\n",
      "[[-0.40824829  0.40824829 -0.81649658]\n",
      " [ 0.70710678  0.70710678  0.        ]\n",
      " [ 0.57735027 -0.57735027 -0.57735027]]\n",
      "54.735610317245346 -135.0\n",
      "[[-0.40824829 -0.40824829 -0.81649658]\n",
      " [ 0.70710678 -0.70710678  0.        ]\n",
      " [-0.57735027 -0.57735027  0.57735027]]\n",
      "125.26438968275465 135.0\n",
      "[[ 0.40824829 -0.40824829 -0.81649658]\n",
      " [-0.70710678 -0.70710678  0.        ]\n",
      " [-0.57735027  0.57735027 -0.57735027]]\n",
      "[[ 0.40824829  0.40824829 -0.81649658]\n",
      " [-0.70710678  0.70710678  0.        ]\n",
      " [ 0.57735027  0.57735027  0.57735027]]\n"
     ]
    }
   ],
   "source": [
    "u_axs = [MakeCoordinate_u(u_i) for u_i in u]\n",
    "print(u_axs[0])"
   ]
  },
  {
   "cell_type": "code",
   "execution_count": null,
   "id": "ea305cc3",
   "metadata": {},
   "outputs": [],
   "source": []
  }
 ],
 "metadata": {
  "kernelspec": {
   "display_name": "Python 3 (ipykernel)",
   "language": "python",
   "name": "python3"
  },
  "language_info": {
   "codemirror_mode": {
    "name": "ipython",
    "version": 3
   },
   "file_extension": ".py",
   "mimetype": "text/x-python",
   "name": "python",
   "nbconvert_exporter": "python",
   "pygments_lexer": "ipython3",
   "version": "3.9.7"
  }
 },
 "nbformat": 4,
 "nbformat_minor": 5
}
