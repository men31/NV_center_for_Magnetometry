{
 "cells": [
  {
   "cell_type": "code",
   "execution_count": 1,
   "metadata": {},
   "outputs": [],
   "source": [
    "import numpy as np\n",
    "import pandas as pd\n",
    "\n",
    "from Sorting_Raw_Frequencies import Sorting_RawFre\n",
    "from Swarm_Optimize_MagneticVector import Op_MagneticVector"
   ]
  },
  {
   "cell_type": "code",
   "execution_count": 2,
   "metadata": {},
   "outputs": [],
   "source": [
    "df = pd.read_csv('./Frequencies_CSV_file/fit_fre_B_0.05_Theta_106.0_Phi_157.5.csv')\n",
    "df2 = pd.read_csv('./Frequencies_CSV_file/fit_fre_B_0.05_Theta_107.7_Phi_158.4.csv')"
   ]
  },
  {
   "cell_type": "code",
   "execution_count": 3,
   "metadata": {},
   "outputs": [
    {
     "data": {
      "text/html": [
       "<div>\n",
       "<style scoped>\n",
       "    .dataframe tbody tr th:only-of-type {\n",
       "        vertical-align: middle;\n",
       "    }\n",
       "\n",
       "    .dataframe tbody tr th {\n",
       "        vertical-align: top;\n",
       "    }\n",
       "\n",
       "    .dataframe thead th {\n",
       "        text-align: right;\n",
       "    }\n",
       "</style>\n",
       "<table border=\"1\" class=\"dataframe\">\n",
       "  <thead>\n",
       "    <tr style=\"text-align: right;\">\n",
       "      <th></th>\n",
       "      <th>Fitted_frequncies (Hz)</th>\n",
       "      <th>NV_label</th>\n",
       "    </tr>\n",
       "  </thead>\n",
       "  <tbody>\n",
       "    <tr>\n",
       "      <th>0</th>\n",
       "      <td>1.721266e+09</td>\n",
       "      <td>4</td>\n",
       "    </tr>\n",
       "    <tr>\n",
       "      <th>1</th>\n",
       "      <td>2.305229e+09</td>\n",
       "      <td>2</td>\n",
       "    </tr>\n",
       "    <tr>\n",
       "      <th>2</th>\n",
       "      <td>2.461833e+09</td>\n",
       "      <td>1</td>\n",
       "    </tr>\n",
       "    <tr>\n",
       "      <th>3</th>\n",
       "      <td>2.816635e+09</td>\n",
       "      <td>3</td>\n",
       "    </tr>\n",
       "    <tr>\n",
       "      <th>4</th>\n",
       "      <td>3.512845e+09</td>\n",
       "      <td>3</td>\n",
       "    </tr>\n",
       "    <tr>\n",
       "      <th>5</th>\n",
       "      <td>3.782351e+09</td>\n",
       "      <td>1</td>\n",
       "    </tr>\n",
       "    <tr>\n",
       "      <th>6</th>\n",
       "      <td>3.886267e+09</td>\n",
       "      <td>2</td>\n",
       "    </tr>\n",
       "    <tr>\n",
       "      <th>7</th>\n",
       "      <td>4.198332e+09</td>\n",
       "      <td>4</td>\n",
       "    </tr>\n",
       "  </tbody>\n",
       "</table>\n",
       "</div>"
      ],
      "text/plain": [
       "   Fitted_frequncies (Hz)  NV_label\n",
       "0            1.721266e+09         4\n",
       "1            2.305229e+09         2\n",
       "2            2.461833e+09         1\n",
       "3            2.816635e+09         3\n",
       "4            3.512845e+09         3\n",
       "5            3.782351e+09         1\n",
       "6            3.886267e+09         2\n",
       "7            4.198332e+09         4"
      ]
     },
     "execution_count": 3,
     "metadata": {},
     "output_type": "execute_result"
    }
   ],
   "source": [
    "df"
   ]
  },
  {
   "cell_type": "code",
   "execution_count": 4,
   "metadata": {},
   "outputs": [
    {
     "data": {
      "text/html": [
       "<div>\n",
       "<style scoped>\n",
       "    .dataframe tbody tr th:only-of-type {\n",
       "        vertical-align: middle;\n",
       "    }\n",
       "\n",
       "    .dataframe tbody tr th {\n",
       "        vertical-align: top;\n",
       "    }\n",
       "\n",
       "    .dataframe thead th {\n",
       "        text-align: right;\n",
       "    }\n",
       "</style>\n",
       "<table border=\"1\" class=\"dataframe\">\n",
       "  <thead>\n",
       "    <tr style=\"text-align: right;\">\n",
       "      <th></th>\n",
       "      <th>Fitted_frequncies (Hz)</th>\n",
       "      <th>NV_label</th>\n",
       "    </tr>\n",
       "  </thead>\n",
       "  <tbody>\n",
       "    <tr>\n",
       "      <th>0</th>\n",
       "      <td>1.882763e+09</td>\n",
       "      <td>4</td>\n",
       "    </tr>\n",
       "    <tr>\n",
       "      <th>1</th>\n",
       "      <td>2.813968e+09</td>\n",
       "      <td>2</td>\n",
       "    </tr>\n",
       "    <tr>\n",
       "      <th>2</th>\n",
       "      <td>2.919634e+09</td>\n",
       "      <td>1</td>\n",
       "    </tr>\n",
       "    <tr>\n",
       "      <th>3</th>\n",
       "      <td>3.412460e+09</td>\n",
       "      <td>3</td>\n",
       "    </tr>\n",
       "    <tr>\n",
       "      <th>4</th>\n",
       "      <td>4.098726e+09</td>\n",
       "      <td>3</td>\n",
       "    </tr>\n",
       "    <tr>\n",
       "      <th>5</th>\n",
       "      <td>4.299624e+09</td>\n",
       "      <td>1</td>\n",
       "    </tr>\n",
       "    <tr>\n",
       "      <th>6</th>\n",
       "      <td>4.325698e+09</td>\n",
       "      <td>2</td>\n",
       "    </tr>\n",
       "    <tr>\n",
       "      <th>7</th>\n",
       "      <td>4.376364e+09</td>\n",
       "      <td>4</td>\n",
       "    </tr>\n",
       "  </tbody>\n",
       "</table>\n",
       "</div>"
      ],
      "text/plain": [
       "   Fitted_frequncies (Hz)  NV_label\n",
       "0            1.882763e+09         4\n",
       "1            2.813968e+09         2\n",
       "2            2.919634e+09         1\n",
       "3            3.412460e+09         3\n",
       "4            4.098726e+09         3\n",
       "5            4.299624e+09         1\n",
       "6            4.325698e+09         2\n",
       "7            4.376364e+09         4"
      ]
     },
     "execution_count": 4,
     "metadata": {},
     "output_type": "execute_result"
    }
   ],
   "source": [
    "df2"
   ]
  },
  {
   "cell_type": "code",
   "execution_count": 5,
   "metadata": {},
   "outputs": [],
   "source": [
    "def Get_SortedFre(df):\n",
    "    return np.array([df[(df['NV_label'] == uqe)]['Fitted_frequncies (Hz)'].to_numpy() for uqe in np.sort(df['NV_label'].unique())])"
   ]
  },
  {
   "cell_type": "code",
   "execution_count": 6,
   "metadata": {},
   "outputs": [
    {
     "name": "stdout",
     "output_type": "stream",
     "text": [
      "[[2.4618332e+09 3.7823506e+09]\n",
      " [2.3052290e+09 3.8862670e+09]\n",
      " [2.8166346e+09 3.5128453e+09]\n",
      " [1.7212659e+09 4.1983316e+09]]\n",
      "[1, 2, 3, 4]\n"
     ]
    }
   ],
   "source": [
    "fre_sort_byNV = np.array([df[(df['NV_label'] == uqe)]['Fitted_frequncies (Hz)'].to_numpy() for uqe in np.sort(df['NV_label'].unique())])\n",
    "print(fre_sort_byNV)\n",
    "print([1, 2, 3, 4])"
   ]
  },
  {
   "cell_type": "code",
   "execution_count": 7,
   "metadata": {},
   "outputs": [
    {
     "name": "stdout",
     "output_type": "stream",
     "text": [
      "[[2.9196337e+09 4.2996240e+09]\n",
      " [2.8139684e+09 4.3256975e+09]\n",
      " [3.4124600e+09 4.0987261e+09]\n",
      " [1.8827633e+09 4.3763635e+09]]\n"
     ]
    }
   ],
   "source": [
    "fre_sort_byNV2 = Get_SortedFre(df2)\n",
    "print(fre_sort_byNV2)"
   ]
  },
  {
   "cell_type": "code",
   "execution_count": 8,
   "metadata": {},
   "outputs": [
    {
     "name": "stdout",
     "output_type": "stream",
     "text": [
      "[[[4.299624, 4.3256975, 3.41246, 1.8827633], [2.9196337, 2.8139684, 4.0987261, 4.3763635]], [[2.9196337, 2.8139684, 4.0987261, 4.3763635], [4.299624, 4.3256975, 3.41246, 1.8827633]]]\n"
     ]
    }
   ],
   "source": [
    "trans = Sorting_RawFre().Calculate(fre_sort_byNV2[:,0]/1e9, fre_sort_byNV2[:,1]/1e9)\n",
    "print(trans)"
   ]
  },
  {
   "cell_type": "code",
   "execution_count": 9,
   "metadata": {},
   "outputs": [
    {
     "name": "stdout",
     "output_type": "stream",
     "text": [
      "[[4.299624, 4.3256975, 3.41246, 1.8827633], [2.9196337, 2.8139684, 4.0987261, 4.3763635]]\n"
     ]
    }
   ],
   "source": [
    "print(trans[0])"
   ]
  },
  {
   "cell_type": "code",
   "execution_count": 10,
   "metadata": {},
   "outputs": [],
   "source": [
    "B_result_params_1 = Op_MagneticVector().Calculate(trans[0][0], trans[0][1])\n",
    "B_result_params_2 = Op_MagneticVector().Calculate(trans[1][0], trans[1][1])"
   ]
  },
  {
   "cell_type": "code",
   "execution_count": 12,
   "metadata": {},
   "outputs": [
    {
     "name": "stdout",
     "output_type": "stream",
     "text": [
      "[  2.86479109  72.30012192 -21.60002825]\n",
      "[  2.86478897 107.69993621 158.40002448]\n"
     ]
    }
   ],
   "source": [
    "print(B_result_params_1 * 180 /np.pi)\n",
    "print(B_result_params_2 * 180 /np.pi)"
   ]
  },
  {
   "cell_type": "code",
   "execution_count": null,
   "metadata": {},
   "outputs": [],
   "source": []
  }
 ],
 "metadata": {
  "interpreter": {
   "hash": "40d3a090f54c6569ab1632332b64b2c03c39dcf918b08424e98f38b5ae0af88f"
  },
  "kernelspec": {
   "display_name": "Python 3.9.7 ('base')",
   "language": "python",
   "name": "python3"
  },
  "language_info": {
   "codemirror_mode": {
    "name": "ipython",
    "version": 3
   },
   "file_extension": ".py",
   "mimetype": "text/x-python",
   "name": "python",
   "nbconvert_exporter": "python",
   "pygments_lexer": "ipython3",
   "version": "3.9.7"
  },
  "orig_nbformat": 4
 },
 "nbformat": 4,
 "nbformat_minor": 2
}
